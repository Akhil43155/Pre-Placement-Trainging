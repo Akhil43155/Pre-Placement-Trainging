{
 "cells": [
  {
   "cell_type": "markdown",
   "id": "edbd402f-81e4-4e35-874e-3014bf565c87",
   "metadata": {},
   "source": [
    "Q1.\n",
    "Given an integer array nums of 2n integers, group these integers into n pairs (a1, b1), (a2, b2),..., (an, bn) such that the sum of min(ai, bi) for all i is maximized. Return the maximized sum.\n",
    "\n",
    "Example 1:\n",
    "\n",
    "Input: nums = [1,4,3,2]\n",
    "\n",
    "Output: 4\n",
    "\n",
    "Explanation: All possible pairings (ignoring the ordering of elements) are:\n",
    "\n",
    "1. (1, 4), (2, 3) -> min(1, 4) + min(2, 3) = 1 + 2 = 3\n",
    "\n",
    "2. (1, 3), (2, 4) -> min(1, 3) + min(2, 4) = 1 + 2 = 3\n",
    "\n",
    "3. (1, 2), (3, 4) -> min(1, 2) + min(3, 4) = 1 + 3 = 4\n",
    "\n",
    "So the maximum possible sum is 4"
   ]
  },
  {
   "cell_type": "code",
   "execution_count": 5,
   "id": "767ec29d-e2bb-41f0-8f74-4be2e1553aca",
   "metadata": {},
   "outputs": [
    {
     "name": "stdout",
     "output_type": "stream",
     "text": [
      "4\n"
     ]
    }
   ],
   "source": [
    "def arrayPairSum(nums):\n",
    "    nums.sort()  \n",
    "    max_sum = 0\n",
    "\n",
    "    for i in range(0, len(nums), 2):\n",
    "        max_sum += nums[i]\n",
    "\n",
    "    return max_sum\n",
    "\n",
    "nums = [1, 4, 3, 2]\n",
    "print(arrayPairSum(nums))\n"
   ]
  },
  {
   "cell_type": "markdown",
   "id": "75e7cfe7-62b5-4900-a561-32ded924fac8",
   "metadata": {},
   "source": [
    "Q2.\n",
    "Alice has n candies, where the ith candy is of type candyType[i]. Alice noticed that she started to gain weight, so she visited a doctor. \n",
    "\n",
    "The doctor advised Alice to only eat n / 2 of the candies she has (n is always even). Alice likes her candies very much, and she wants to eat the maximum number of different types of candies while still following the doctor's advice. \n",
    "\n",
    "Given the integer array candyType of length n, return the maximum number of different types of candies she can eat if she only eats n / 2 of them.\n",
    "\n",
    "Example 1:\n",
    "\n",
    "Input: candyType = [1,1,2,2,3,3]\n",
    "\n",
    "Output: 3\n",
    "\n",
    "Explanation: Alice can only eat 6 / 2 = 3 candies. Since there are only 3 types, she can eat one of each type."
   ]
  },
  {
   "cell_type": "code",
   "execution_count": 9,
   "id": "84fd4869-1a58-4b2f-a494-5b4ab22e6267",
   "metadata": {},
   "outputs": [
    {
     "name": "stdout",
     "output_type": "stream",
     "text": [
      "3\n"
     ]
    }
   ],
   "source": [
    "def distributeCandies(candyType):\n",
    "    unique_candies = set()\n",
    "\n",
    "    for candy in candyType:\n",
    "        unique_candies.add(candy)\n",
    "\n",
    "    return min(len(unique_candies), len(candyType) // 2)\n",
    "\n",
    "candyType = [1, 1, 2, 2, 3, 3]\n",
    "print(distributeCandies(candyType))\n"
   ]
  },
  {
   "cell_type": "markdown",
   "id": "da4988a9-d9b9-474d-9cf3-30094ee70db6",
   "metadata": {},
   "source": [
    "Q3.\n",
    "We define a harmonious array as an array where the difference between its maximum value\n",
    "and its minimum value is exactly 1.\n",
    "\n",
    "Given an integer array nums, return the length of its longest harmonious subsequence\n",
    "among all its possible subsequences.\n",
    "\n",
    "A subsequence of an array is a sequence that can be derived from the array by deleting some or no elements without changing the order of the remaining elements.\n",
    "\n",
    "Example 1:\n",
    "\n",
    "Input: nums = [1,3,2,2,5,2,3,7]\n",
    "\n",
    "Output: 5\n",
    "\n",
    "Explanation: The longest harmonious subsequence is [3,2,2,2,3]."
   ]
  },
  {
   "cell_type": "code",
   "execution_count": 17,
   "id": "5f8fab94-ac34-4b72-9421-30e2726d04c7",
   "metadata": {},
   "outputs": [
    {
     "name": "stdout",
     "output_type": "stream",
     "text": [
      "5\n"
     ]
    }
   ],
   "source": [
    "from collections import Counter\n",
    "\n",
    "def findLHS(nums):\n",
    "    num_counts = Counter(nums)\n",
    "    max_length = 0\n",
    "\n",
    "    for num in num_counts:\n",
    "        if num + 1 in num_counts:\n",
    "            length = num_counts[num] + num_counts[num + 1]\n",
    "            max_length = max(max_length, length)\n",
    "\n",
    "    return max_length\n",
    "\n",
    "nums = [1, 3, 2, 2, 5, 2, 3, 7]\n",
    "print(findLHS(nums))\n"
   ]
  },
  {
   "cell_type": "markdown",
   "id": "868b0b88-f69c-425d-8b67-61e7b77fcc06",
   "metadata": {},
   "source": [
    "Q4.\n",
    "You have a long flowerbed in which some of the plots are planted, and some are not.\n",
    "However, flowers cannot be planted in adjacent plots.\n",
    "Given an integer array flowerbed containing 0's and 1's, where 0 means empty and 1 means not empty, and an integer n, return true if n new flowers can be planted in the flowerbed without violating the no-adjacent-flowers rule and false otherwise.\n",
    "\n",
    "Example 1:\n",
    "\n",
    "Input: flowerbed = [1,0,0,0,1], n = 1\n",
    "\n",
    "Output: true"
   ]
  },
  {
   "cell_type": "code",
   "execution_count": 19,
   "id": "3368d97f-52f5-44df-b07e-e5249002cfe4",
   "metadata": {},
   "outputs": [
    {
     "name": "stdout",
     "output_type": "stream",
     "text": [
      "True\n"
     ]
    }
   ],
   "source": [
    "def canPlaceFlowers(flowerbed, n):\n",
    "    count = 0\n",
    "    length = len(flowerbed)\n",
    "    i = 0\n",
    "\n",
    "    while i < length:\n",
    "        if flowerbed[i] == 0 and (i == 0 or flowerbed[i - 1] == 0) and (i == length - 1 or flowerbed[i + 1] == 0):\n",
    "            flowerbed[i] = 1\n",
    "            count += 1\n",
    "        i += 1\n",
    "\n",
    "    return count >= n\n",
    "\n",
    "flowerbed = [1, 0, 0, 0, 1]\n",
    "n = 1\n",
    "print(canPlaceFlowers(flowerbed, n))\n"
   ]
  },
  {
   "cell_type": "markdown",
   "id": "99a8744a-6d52-4702-990a-a76c863ac4b6",
   "metadata": {},
   "source": [
    "Q5.\n",
    "Given an integer array nums, find three numbers whose product is maximum and return the maximum product.\n",
    "\n",
    "Example 1:\n",
    "\n",
    "Input: nums = [1,2,3]\n",
    "\n",
    "Output: 6"
   ]
  },
  {
   "cell_type": "code",
   "execution_count": 21,
   "id": "787b06d4-16f9-4254-af61-ce3f520a070f",
   "metadata": {},
   "outputs": [
    {
     "name": "stdout",
     "output_type": "stream",
     "text": [
      "6\n"
     ]
    }
   ],
   "source": [
    "def maximumProduct(nums):\n",
    "    nums.sort()\n",
    "    n = len(nums)\n",
    "    return max(nums[n-1] * nums[n-2] * nums[n-3], nums[0] * nums[1] * nums[n-1])\n",
    "\n",
    "nums = [1, 2, 3]\n",
    "print(maximumProduct(nums))\n"
   ]
  },
  {
   "cell_type": "markdown",
   "id": "7d5f6188-3fec-4a03-8146-eb7fe0dab911",
   "metadata": {},
   "source": [
    "Q6.\n",
    "Given an array of integers nums which is sorted in ascending order, and an integer target,\n",
    "write a function to search target in nums. If target exists, then return its index. Otherwise,\n",
    "return -1.\n",
    "\n",
    "You must write an algorithm with O(log n) runtime complexity.\n",
    "\n",
    "Input: nums = [-1,0,3,5,9,12], target = 9\n",
    "\n",
    "Output: 4\n",
    "\n",
    "Explanation: 9 exists in nums and its index is 4"
   ]
  },
  {
   "cell_type": "code",
   "execution_count": 25,
   "id": "2abc6fb2-feba-4c31-828a-25d830ff484d",
   "metadata": {},
   "outputs": [
    {
     "name": "stdout",
     "output_type": "stream",
     "text": [
      "4\n"
     ]
    }
   ],
   "source": [
    "def search(nums, target):\n",
    "    left, right = 0, len(nums) - 1\n",
    "\n",
    "    while left <= right:\n",
    "        mid = (left + right) // 2\n",
    "\n",
    "        if nums[mid] == target:\n",
    "            return mid\n",
    "        elif nums[mid] < target:\n",
    "            left = mid + 1\n",
    "        else:\n",
    "            right = mid - 1\n",
    "\n",
    "    return -1\n",
    "\n",
    "nums = [-1, 0, 3, 5, 9, 12]\n",
    "target = 9\n",
    "print(search(nums, target))\n"
   ]
  },
  {
   "cell_type": "markdown",
   "id": "e875b203-1bde-451e-a9c5-72a879a25519",
   "metadata": {},
   "source": [
    "Q7.\n",
    "An array is monotonic if it is either monotone increasing or monotone decreasing.\n",
    "\n",
    "An array nums is monotone increasing if for all i <= j, nums[i] <= nums[j]. An array nums is\n",
    "monotone decreasing if for all i <= j, nums[i] >= nums[j].\n",
    "\n",
    "Given an integer array nums, return true if the given array is monotonic, or false otherwise.\n",
    "\n",
    "Example 1:\n",
    "\n",
    "Input: nums = [1,2,2,3]\n",
    "\n",
    "Output: true"
   ]
  },
  {
   "cell_type": "code",
   "execution_count": 27,
   "id": "91539179-a77f-4a62-a861-2f3296030009",
   "metadata": {},
   "outputs": [
    {
     "name": "stdout",
     "output_type": "stream",
     "text": [
      "True\n"
     ]
    }
   ],
   "source": [
    "def isMonotonic(nums):\n",
    "    isIncreasing = True\n",
    "    isDecreasing = True\n",
    "\n",
    "    for i in range(1, len(nums)):\n",
    "        if nums[i] > nums[i - 1]:\n",
    "            isIncreasing = False\n",
    "        if nums[i] < nums[i - 1]:\n",
    "            isDecreasing = False\n",
    "\n",
    "    return isIncreasing or isDecreasing\n",
    "\n",
    "nums = [1, 2, 2, 3]\n",
    "print(isMonotonic(nums))\n"
   ]
  },
  {
   "cell_type": "markdown",
   "id": "86e6877c-82dd-4412-8871-628425b1e460",
   "metadata": {},
   "source": [
    "Q8.\n",
    "You are given an integer array nums and an integer k.\n",
    "\n",
    "In one operation, you can choose any index i where 0 <= i < nums.length and change nums[i] to nums[i] + x where x is an integer from the range [-k, k]. You can apply this operation at most once for each index i.\n",
    "\n",
    "The score of nums is the difference between the maximum and minimum elements in nums.\n",
    "\n",
    "Return the minimum score of nums after applying the mentioned operation at most once for each index in it.\n",
    "\n",
    "Example 1:\n",
    "    \n",
    "Input: nums = [1], k = 0\n",
    "\n",
    "Output: 0\n",
    "\n",
    "Explanation: The score is max(nums) - min(nums) = 1 - 1 = 0."
   ]
  },
  {
   "cell_type": "code",
   "execution_count": 30,
   "id": "925bbacc-e0c8-49c8-b2d2-1a4e0ea6e616",
   "metadata": {},
   "outputs": [
    {
     "name": "stdout",
     "output_type": "stream",
     "text": [
      "0\n"
     ]
    }
   ],
   "source": [
    "def minimumScore(nums, k):\n",
    "    minNum = min(nums)\n",
    "    maxNum = max(nums)\n",
    "\n",
    "    if minNum == maxNum:\n",
    "        return 0\n",
    "\n",
    "    for num in nums:\n",
    "        potentialMin = num - k\n",
    "        potentialMax = num + k\n",
    "        minNum = min(minNum, potentialMin)\n",
    "        maxNum = max(maxNum, potentialMax)\n",
    "\n",
    "    return maxNum - minNum\n",
    "\n",
    "nums = [1]\n",
    "k = 0\n",
    "print(minimumScore(nums, k))\n"
   ]
  },
  {
   "cell_type": "code",
   "execution_count": null,
   "id": "cdb68305-c0eb-4d9c-8d57-3f6876a21429",
   "metadata": {},
   "outputs": [],
   "source": []
  }
 ],
 "metadata": {
  "kernelspec": {
   "display_name": "Python 3 (ipykernel)",
   "language": "python",
   "name": "python3"
  },
  "language_info": {
   "codemirror_mode": {
    "name": "ipython",
    "version": 3
   },
   "file_extension": ".py",
   "mimetype": "text/x-python",
   "name": "python",
   "nbconvert_exporter": "python",
   "pygments_lexer": "ipython3",
   "version": "3.10.8"
  }
 },
 "nbformat": 4,
 "nbformat_minor": 5
}
